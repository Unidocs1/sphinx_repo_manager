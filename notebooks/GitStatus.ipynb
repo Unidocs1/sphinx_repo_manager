{
 "cells": [
  {
   "cell_type": "markdown",
   "metadata": {},
   "source": [
    "### Settings"
   ]
  },
  {
   "cell_type": "code",
   "execution_count": 35,
   "metadata": {},
   "outputs": [],
   "source": [
    "git_root_path = \".\"\n",
    "git_clean_root = \"./docs/\""
   ]
  },
  {
   "cell_type": "markdown",
   "metadata": {},
   "source": [
    "### Local git status"
   ]
  },
  {
   "cell_type": "markdown",
   "metadata": {},
   "source": [
    "#### Git local commit status"
   ]
  },
  {
   "cell_type": "code",
   "execution_count": 11,
   "metadata": {},
   "outputs": [
    {
     "name": "stdout",
     "output_type": "stream",
     "text": [
      "AM .devcontainer/devcontainer.json\n",
      "A  .vscode/extensions.json\n",
      "AM .vscode/settings.json\n",
      "AM docker/Dockerfile\n",
      "AM docker/Dockerfile.dev\n",
      "AM docker/docker-compose-dev.yaml\n",
      "AM docker/docker-compose.yaml\n",
      "M  docs/repo_manifest.yml\n",
      "A  notebooks/DockerTesting.ipynb\n",
      "AM notebooks/Environment.ipynb\n",
      "A  notebooks/GitStatus.ipynb\n",
      "AM notebooks/Setup.ipynb\n",
      "A  requirements-dev.txt\n",
      "A  tools/sphinx_repo_manager\n",
      "?? RELEASE_NOTES.rst\n",
      "?? docker/Dockerfile.build\n",
      "?? docs.code-workspace\n",
      "?? source/\n"
     ]
    }
   ],
   "source": [
    "# Check local status\n",
    "!git status $git_root_path --porcelain"
   ]
  },
  {
   "cell_type": "markdown",
   "metadata": {},
   "source": [
    "#### Git untracked file status"
   ]
  },
  {
   "cell_type": "code",
   "execution_count": 16,
   "metadata": {},
   "outputs": [
    {
     "name": "stdout",
     "output_type": "stream",
     "text": [
      "RELEASE_NOTES.rst\n",
      "docker/Dockerfile.build\n",
      "docs.code-workspace\n",
      "source/_repos-available/account_services--dev/\n",
      "source/_repos-available/achievements_services--dev/\n",
      "source/_repos-available/asset_services--dev/\n",
      "source/_repos-available/backup_services--dev/\n",
      "source/_repos-available/console--dev/\n",
      "source/_repos-available/economy_services--dev/\n",
      "source/_repos-available/launcher--dev/\n",
      "source/_repos-available/leaderboard_services--dev/\n",
      "source/_repos-available/lyrastartergame--dev/\n",
      "source/_repos-available/matchmaking_services--dev/\n",
      "source/_repos-available/notification_services--dev/\n",
      "source/_repos-available/persona_services--dev/\n",
      "source/_repos-available/progression_services--dev/\n",
      "source/_repos-available/purchasing_services--dev/\n",
      "source/_repos-available/quest_services--dev/\n",
      "source/_repos-available/reporting_services--dev/\n",
      "source/_repos-available/scripting_services--dev/\n",
      "source/_repos-available/sdk_cpp--dylan_refactor_docs_revamp/\n",
      "source/_repos-available/sdk_csharp--dev/\n",
      "source/_repos-available/sdk_nodejs--dev/\n",
      "source/_repos-available/sdk_unity--dev/\n",
      "source/_repos-available/sdk_unreal--dev/\n",
      "source/_repos-available/server_instance_services--dev/\n",
      "source/_repos-available/service-core--dev/\n",
      "source/_repos-available/service_monitor--dev/\n",
      "source/_repos-available/session_services--dev/\n",
      "source/_repos-available/social_services--dev/\n",
      "source/_repos-available/telemetry_services--dev/\n",
      "source/_repos-available/unitychessgame--dev/\n",
      "source/_repos-available/validation_services--dev/\n",
      "source/_repos-available/xbe_static_docs--main/\n",
      "source/_repos-available/xbeapp--dev/\n"
     ]
    }
   ],
   "source": [
    "# Check untracked file status\n",
    "!git ls-files --others --exclude-standard ."
   ]
  },
  {
   "cell_type": "markdown",
   "metadata": {},
   "source": [
    "### Local git cleanup"
   ]
  },
  {
   "cell_type": "markdown",
   "metadata": {},
   "source": [
    "##### Git clean untracked files/folders NOT including git repos"
   ]
  },
  {
   "cell_type": "markdown",
   "metadata": {},
   "source": [
    "`git clean` with flags `-Xfd` is used on a target directory to remove all untracked files and directories, but not including git repositories."
   ]
  },
  {
   "cell_type": "code",
   "execution_count": 33,
   "metadata": {},
   "outputs": [
    {
     "name": "stdout",
     "output_type": "stream",
     "text": [
      "Would remove .env\n",
      "Would remove docs/build/\n",
      "Would remove docs/source/_extensions/__pycache__/\n",
      "Would remove docs/source/_extensions/sphinx_repo_manager/__pycache__/\n",
      "Would skip repository docs/source/_repos-available/xbe_static_docs--main\n",
      "Would remove docs/source/content/\n"
     ]
    }
   ],
   "source": [
    "# Preview\n",
    "!git clean -Xfdn ."
   ]
  },
  {
   "cell_type": "code",
   "execution_count": 14,
   "metadata": {},
   "outputs": [],
   "source": [
    "# Execute\n",
    "!git clean -Xfd $git_clean_root"
   ]
  },
  {
   "cell_type": "markdown",
   "metadata": {},
   "source": [
    "#### Git clean untracked files/folders INCLUDING git repos"
   ]
  },
  {
   "cell_type": "markdown",
   "metadata": {},
   "source": [
    "The extra `-f` flag is used to force the clean operation to also remove submodules directories."
   ]
  },
  {
   "cell_type": "code",
   "execution_count": 34,
   "metadata": {},
   "outputs": [
    {
     "name": "stdout",
     "output_type": "stream",
     "text": [
      "Would remove .env\n",
      "Would remove docs/build/\n",
      "Would remove docs/source/_extensions/__pycache__/\n",
      "Would remove docs/source/_extensions/sphinx_repo_manager/__pycache__/\n",
      "Would remove docs/source/_repos-available/\n",
      "Would remove docs/source/content/\n"
     ]
    }
   ],
   "source": [
    "# Preview without executing the command\n",
    "!git clean -Xffdn ."
   ]
  },
  {
   "cell_type": "code",
   "execution_count": 32,
   "metadata": {},
   "outputs": [
    {
     "name": "stdout",
     "output_type": "stream",
     "text": [
      "Removing source/_extensions/\n"
     ]
    }
   ],
   "source": [
    "# Execute the cleanup\n",
    "!git clean -Xffd source"
   ]
  },
  {
   "cell_type": "markdown",
   "metadata": {},
   "source": []
  }
 ],
 "metadata": {
  "kernelspec": {
   "display_name": "py310",
   "language": "python",
   "name": "python3"
  },
  "language_info": {
   "codemirror_mode": {
    "name": "ipython",
    "version": 3
   },
   "file_extension": ".py",
   "mimetype": "text/x-python",
   "name": "python",
   "nbconvert_exporter": "python",
   "pygments_lexer": "ipython3",
   "version": "3.10.13"
  }
 },
 "nbformat": 4,
 "nbformat_minor": 2
}
